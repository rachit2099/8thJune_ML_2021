{
 "cells": [
  {
   "cell_type": "code",
   "execution_count": 47,
   "metadata": {},
   "outputs": [],
   "source": [
    "import tkinter as tk\n",
    "import pandas as pd\n",
    "import warnings \n",
    "warnings.filterwarnings('ignore')\n",
    "\n",
    "m=pd.read_pickle('House_Price_Predictor.pkl')\n",
    "\n",
    "app = tk.Tk()\n",
    "app.geometry('450x450')\n",
    "app.title('House_Price_Predictor')\n",
    "app['bg']='grey'\n",
    "Income = Label(app, text=\"Enter your income: \")\n",
    "Income.place(x=50,y=100)\n",
    "i1=tk.Variable(app)\n",
    "i1.set('0')\n",
    "tk.Entry(app, textvariable=i1, bd =5).place(x=240,y=100)\n",
    "\n",
    "Age = Label(app, text=\"Enter the age of house: \")\n",
    "Age.place(x=50,y=150)\n",
    "a1=tk.Variable(app)\n",
    "a1.set('0')\n",
    "tk.Entry(app, textvariable=a1, bd =5).place(x=240,y=150)\n",
    "\n",
    "Room = Label(app, text=\"Enter the number of rooms: \")\n",
    "Room.place(x=50,y=200)\n",
    "r1=tk.Variable(app)\n",
    "r1.set('0')\n",
    "tk.Entry(app, textvariable=r1, bd =5).place(x=240,y=200)\n",
    "\n",
    "population = Label(app, text=\"Enter the population of your area: \")\n",
    "population.place(x=50,y=250)\n",
    "p1=tk.Variable(app)\n",
    "p1.set('0')\n",
    "tk.Entry(app, textvariable=p1, bd =5).place(x=240,y=250)\n",
    "\n",
    "def predict():\n",
    "    inc=eval(i1.get())\n",
    "    Age=eval(a1.get())\n",
    "    Room=eval(r1.get())\n",
    "    pop=eval(p1.get())\n",
    "    query=pd.DataFrame({'Income':[inc],'House_age':[Age],'Rooms':[Room],'Population':[pop]})\n",
    "    result.set(round(m.predict(query)[0],0))\n",
    "\n",
    "    \n",
    "tk.Button(app,text='Predict', command=predict,bg='blue',fg='white').place(x=50,y=300,height=30)\n",
    "\n",
    "predicted_price=tk.Variable(app)\n",
    "predicted_price.set('The selling price of your house in $ is: ')\n",
    "tk.Label(app,textvariable=predicted_price).place(x=50,y=350)\n",
    "\n",
    "\n",
    "result = tk.Variable(app)\n",
    "result.set('...')\n",
    "tk.Label(app, textvariable=result).place(x=280,y=350)    \n",
    "app.mainloop()"
   ]
  },
  {
   "cell_type": "code",
   "execution_count": null,
   "metadata": {},
   "outputs": [],
   "source": []
  }
 ],
 "metadata": {
  "kernelspec": {
   "display_name": "Python 3",
   "language": "python",
   "name": "python3"
  },
  "language_info": {
   "codemirror_mode": {
    "name": "ipython",
    "version": 3
   },
   "file_extension": ".py",
   "mimetype": "text/x-python",
   "name": "python",
   "nbconvert_exporter": "python",
   "pygments_lexer": "ipython3",
   "version": "3.7.1"
  }
 },
 "nbformat": 4,
 "nbformat_minor": 2
}

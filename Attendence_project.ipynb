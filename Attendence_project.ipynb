{
 "cells": [
  {
   "cell_type": "code",
   "execution_count": 15,
   "metadata": {},
   "outputs": [],
   "source": [
    "import face_recognition as fc\n",
    "import cv2\n",
    "import dlib as db\n",
    "import numpy as np\n",
    "import os\n",
    "from datetime import datetime"
   ]
  },
  {
   "cell_type": "code",
   "execution_count": 16,
   "metadata": {},
   "outputs": [
    {
     "name": "stdout",
     "output_type": "stream",
     "text": [
      "['aryan.jpg', 'kr.jpg', 'rachit.jpg', 'sudha.jpg']\n"
     ]
    }
   ],
   "source": [
    "path = 'imageAttendence'\n",
    "images = []\n",
    "classNames = []\n",
    "mylist = os.listdir(path)\n",
    "print(mylist)"
   ]
  },
  {
   "cell_type": "code",
   "execution_count": 17,
   "metadata": {},
   "outputs": [
    {
     "name": "stdout",
     "output_type": "stream",
     "text": [
      "['aryan', 'kr', 'rachit', 'sudha']\n"
     ]
    }
   ],
   "source": [
    "for cl in mylist:\n",
    "    curImg = cv2.imread(f'{path}/{cl}')\n",
    "    images.append(curImg)\n",
    "    classNames.append(os.path.splitext(cl)[0])\n",
    "print(classNames)    "
   ]
  },
  {
   "cell_type": "code",
   "execution_count": null,
   "metadata": {},
   "outputs": [
    {
     "name": "stdout",
     "output_type": "stream",
     "text": [
      "Encoding Complete\n",
      "[0.51372482 0.61258785 0.41111694 0.63194654]\n",
      "RACHIT\n",
      "[0.67287577 0.52585458 0.68566668 0.82661752]\n",
      "KR\n",
      "[0.55738026 0.56784183 0.47501404 0.68560158]\n",
      "RACHIT\n",
      "[0.63707584 0.56250727 0.65797012 0.79426089]\n",
      "KR\n",
      "[0.53627087 0.61090531 0.46636318 0.66892609]\n",
      "RACHIT\n",
      "[0.65549123 0.56291476 0.69008578 0.8145851 ]\n",
      "KR\n",
      "[0.50168626 0.5526389  0.49176015 0.69763993]\n",
      "RACHIT\n",
      "[0.4888282  0.59394525 0.45111477 0.68320459]\n",
      "RACHIT\n",
      "[0.52611478 0.56970018 0.52235531 0.76119632]\n",
      "RACHIT\n",
      "[0.48841108 0.57654766 0.50728114 0.72366139]\n",
      "ARYAN\n",
      "[0.63021908 0.56793732 0.64248968 0.79849777]\n",
      "KR\n",
      "[0.69010402 0.58241125 0.69750161 0.81889769]\n",
      "KR\n",
      "[0.47763047 0.54825558 0.53888476 0.6677184 ]\n",
      "ARYAN\n",
      "[0.48302488 0.57676085 0.52040222 0.70003509]\n",
      "ARYAN\n",
      "[0.5957589  0.57906139 0.56728762 0.74820759]\n",
      "RACHIT\n",
      "[0.50205324 0.54933317 0.53093119 0.70624716]\n",
      "ARYAN\n",
      "[0.4844309  0.60646438 0.51371874 0.71290495]\n",
      "ARYAN\n",
      "[0.51077338 0.5696319  0.53443729 0.66077161]\n",
      "ARYAN\n",
      "[0.63389574 0.6434078  0.55723039 0.79745577]\n",
      "RACHIT\n",
      "[0.5155116  0.65083029 0.49004154 0.73709524]\n",
      "RACHIT\n",
      "[0.48561624 0.56462293 0.46735878 0.68871598]\n",
      "RACHIT\n",
      "[0.49576818 0.63990228 0.43264528 0.71261987]\n",
      "RACHIT\n",
      "[0.49231345 0.52888372 0.47745028 0.67528246]\n",
      "RACHIT\n",
      "[0.49624525 0.59726352 0.39530134 0.68610897]\n",
      "RACHIT\n",
      "[0.50294593 0.63327145 0.49885263 0.74619351]\n",
      "RACHIT\n",
      "[0.58715495 0.65389088 0.47164853 0.75945595]\n",
      "RACHIT\n",
      "[0.52086129 0.61132734 0.49167078 0.71388067]\n",
      "RACHIT\n",
      "[0.54497597 0.62023354 0.42915943 0.73388799]\n",
      "RACHIT\n",
      "[0.48429268 0.58761936 0.46440034 0.69171208]\n",
      "RACHIT\n",
      "[0.51826553 0.58302261 0.44376326 0.71814605]\n",
      "RACHIT\n"
     ]
    }
   ],
   "source": [
    "def findEncodings(images):\n",
    "    encodeList = []\n",
    "    for img in images:\n",
    "        img = cv2.cvtColor(img, cv2.COLOR_BGR2RGB)\n",
    "        encode = fc.face_encodings(img)[0]\n",
    "        encodeList.append(encode)\n",
    "    return encodeList\n",
    "\n",
    "def markAttendence(name):\n",
    "    with open('Attendence.csv','r+') as f:\n",
    "        myDataList = f.readlines()\n",
    "        nameList = []\n",
    "        for line in myDataList:\n",
    "            entry = line.split(',')\n",
    "            nameList.append(entry[0])\n",
    "        if name not in nameList:\n",
    "            now = datetime.now()\n",
    "            dtString = now.strftime('%H:%M:%S')\n",
    "            f.writelines(f'\\n{name},{dtString}')\n",
    "    \n",
    "\n",
    "encodeListKnown = findEncodings(images)\n",
    "print('Encoding Complete')\n",
    " \n",
    "cap = cv2.VideoCapture(0)\n",
    "\n",
    "while True:\n",
    "    success, img = cap.read()\n",
    "    imgS = cv2.resize(img,(0,0),None,0.25,0.25)\n",
    "    imgS = cv2.cvtColor(imgS, cv2.COLOR_BGR2RGB) \n",
    "    \n",
    "    facesCurFrame = fc.face_locations(imgS)\n",
    "    encodesCurFrame = fc.face_encodings(imgS,facesCurFrame)\n",
    "    \n",
    "    for encodeFace,faceloc in zip(encodesCurFrame,facesCurFrame):\n",
    "        matches = fc.compare_faces(encodeListKnown,encodeFace)\n",
    "        faceDis = fc.face_distance(encodeListKnown,encodeFace)\n",
    "        print(faceDis)\n",
    "        matchIndex = np.argmin(faceDis)\n",
    "        \n",
    "        if matches[matchIndex]:\n",
    "            name = classNames[matchIndex].upper()\n",
    "            print(name)\n",
    "            y1,x2,y2,x1 = faceloc\n",
    "            y1,x2,y2,x1 = y1*4,x2*4,y2*4,x1*4\n",
    "            cv2.rectangle(img,(x1,y1),(x2,y2),(0,255,0),2)\n",
    "            cv2.rectangle(img,(x1,y2-35),(x2,y2),(0,255,0),cv2.FILLED)\n",
    "            cv2.putText(img,name,(x1+6,y2-6),cv2.FONT_HERSHEY_COMPLEX,1,(255,255,255),2)\n",
    "            markAttendence(name)\n",
    "            \n",
    "    cv2.imshow('webcam',img)\n",
    "    cv2.waitKey(1)"
   ]
  },
  {
   "cell_type": "code",
   "execution_count": null,
   "metadata": {},
   "outputs": [],
   "source": []
  }
 ],
 "metadata": {
  "kernelspec": {
   "display_name": "Python 3",
   "language": "python",
   "name": "python3"
  },
  "language_info": {
   "codemirror_mode": {
    "name": "ipython",
    "version": 3
   },
   "file_extension": ".py",
   "mimetype": "text/x-python",
   "name": "python",
   "nbconvert_exporter": "python",
   "pygments_lexer": "ipython3",
   "version": "3.7.1"
  }
 },
 "nbformat": 4,
 "nbformat_minor": 2
}
